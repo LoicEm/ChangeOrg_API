{
 "cells": [
  {
   "cell_type": "code",
   "execution_count": 5,
   "metadata": {
    "collapsed": false
   },
   "outputs": [
    {
     "data": {
      "text/html": [
       "<style>.container { width:100% !important; }</style>"
      ],
      "text/plain": [
       "<IPython.core.display.HTML object>"
      ]
     },
     "metadata": {},
     "output_type": "display_data"
    }
   ],
   "source": [
    "from IPython.core.display import display, HTML\n",
    "display(HTML(\"<style>.container { width:100% !important; }</style>\"))"
   ]
  },
  {
   "cell_type": "code",
   "execution_count": 1,
   "metadata": {
    "collapsed": true
   },
   "outputs": [],
   "source": [
    "import pandas, csv\n",
    "path = 'data/fr_petitions.csv'"
   ]
  },
  {
   "cell_type": "code",
   "execution_count": 2,
   "metadata": {
    "collapsed": false
   },
   "outputs": [
    {
     "name": "stderr",
     "output_type": "stream",
     "text": [
      "C:\\Anaconda3\\lib\\site-packages\\IPython\\core\\interactiveshell.py:2723: DtypeWarning: Columns (2,4) have mixed types. Specify dtype option on import or set low_memory=False.\n",
      "  interactivity=interactivity, compiler=compiler, result=result)\n"
     ]
    }
   ],
   "source": [
    "df = pandas.read_csv(path,encoding = 'utf8')"
   ]
  },
  {
   "cell_type": "code",
   "execution_count": 49,
   "metadata": {
    "collapsed": true
   },
   "outputs": [],
   "source": [
    "import re\n",
    "\n",
    "TAG_RE = re.compile(r'<[^>]+>')\n",
    "\n",
    "def remove_tags(text):\n",
    "    try :\n",
    "        return TAG_RE.sub('', text)\n",
    "    except : return"
   ]
  },
  {
   "cell_type": "code",
   "execution_count": 50,
   "metadata": {
    "collapsed": false
   },
   "outputs": [
    {
     "data": {
      "text/html": [
       "<div>\n",
       "<table border=\"1\" class=\"dataframe\">\n",
       "  <thead>\n",
       "    <tr style=\"text-align: right;\">\n",
       "      <th></th>\n",
       "      <th>creator_name</th>\n",
       "      <th>overview</th>\n",
       "      <th>goal</th>\n",
       "      <th>creator_url</th>\n",
       "      <th>petition_id</th>\n",
       "      <th>end_at</th>\n",
       "      <th>title</th>\n",
       "      <th>letter_body</th>\n",
       "      <th>image_url</th>\n",
       "      <th>category</th>\n",
       "      <th>url</th>\n",
       "      <th>targets</th>\n",
       "      <th>status</th>\n",
       "      <th>organization_url</th>\n",
       "      <th>organization_name</th>\n",
       "      <th>created_at</th>\n",
       "      <th>signature_count</th>\n",
       "      <th>nb_targets</th>\n",
       "    </tr>\n",
       "  </thead>\n",
       "  <tbody>\n",
       "    <tr>\n",
       "      <th>0</th>\n",
       "      <td>Guillaume Spatola</td>\n",
       "      <td>Nous, militants, avons un droit de regard sur ...</td>\n",
       "      <td>100</td>\n",
       "      <td>https://api.change.org/u/31619762</td>\n",
       "      <td>886980</td>\n",
       "      <td>2013-03-02T23:59:59Z</td>\n",
       "      <td>Jean-François Copé, François Fillon, Alain Jup...</td>\n",
       "      <td>Respecter les statuts de l'UMP et leurs droits...</td>\n",
       "      <td>https://assets.change.org/photos/8/ek/hi/yaeKH...</td>\n",
       "      <td>NaN</td>\n",
       "      <td>https://api.change.org/p/jean-fran%C3%A7ois-co...</td>\n",
       "      <td>[{'type': 'custom', 'name': 'Jean-François Cop...</td>\n",
       "      <td>closed</td>\n",
       "      <td>NaN</td>\n",
       "      <td>NaN</td>\n",
       "      <td>2012-11-23T20:06:47Z</td>\n",
       "      <td>19.0</td>\n",
       "      <td>1</td>\n",
       "    </tr>\n",
       "    <tr>\n",
       "      <th>1</th>\n",
       "      <td>Claudine M.</td>\n",
       "      <td>parce qu'on n'a pas le droit de refuser le man...</td>\n",
       "      <td>100</td>\n",
       "      <td>https://api.change.org/u/32174510</td>\n",
       "      <td>960830</td>\n",
       "      <td>2014-01-10T23:59:59Z</td>\n",
       "      <td>maire d'Ustaritz: Qu'il réintègre la petite Lé...</td>\n",
       "      <td>Qu'il réintègre la petite Léa à la cantine de ...</td>\n",
       "      <td>https://assets.change.org/app-assets/petitions...</td>\n",
       "      <td>NaN</td>\n",
       "      <td>https://api.change.org/p/maire-d-ustaritz-qu-i...</td>\n",
       "      <td>[{'type': 'custom', 'name': \"maire d'Ustaritz\"}]</td>\n",
       "      <td>closed</td>\n",
       "      <td>NaN</td>\n",
       "      <td>NaN</td>\n",
       "      <td>2013-01-10T18:30:17Z</td>\n",
       "      <td>1.0</td>\n",
       "      <td>1</td>\n",
       "    </tr>\n",
       "    <tr>\n",
       "      <th>2</th>\n",
       "      <td>isabelle Bordetti</td>\n",
       "      <td>1)en tant que valbonnaise, je demande la prése...</td>\n",
       "      <td>100</td>\n",
       "      <td>https://api.change.org/u/543879776</td>\n",
       "      <td>7.09681e+06</td>\n",
       "      <td>2017-05-18T23:59:59Z</td>\n",
       "      <td>slfv.org: sauvons la forêt valbonnaise</td>\n",
       "      <td>sauvons la forêt valbonnaise</td>\n",
       "      <td>https://assets.change.org/app-assets/petitions...</td>\n",
       "      <td>NaN</td>\n",
       "      <td>https://api.change.org/p/slfv-org-sauvons-la-f...</td>\n",
       "      <td>[{'type': 'custom', 'name': 'slfv.org'}]</td>\n",
       "      <td>preview</td>\n",
       "      <td>NaN</td>\n",
       "      <td>NaN</td>\n",
       "      <td>2016-05-18T16:04:51Z</td>\n",
       "      <td>1.0</td>\n",
       "      <td>1</td>\n",
       "    </tr>\n",
       "    <tr>\n",
       "      <th>3</th>\n",
       "      <td>Naïs Beaumont</td>\n",
       "      <td>Il y a urgence: d'ici 2018, la déchetterie qui...</td>\n",
       "      <td>100</td>\n",
       "      <td>https://api.change.org/u/66078000</td>\n",
       "      <td>7.41724e+06</td>\n",
       "      <td>2017-06-28T23:59:59Z</td>\n",
       "      <td>Communauté de Communes du Pays de Fayence: Fac...</td>\n",
       "      <td>Faciliter le tri des déchets en Pays de Fayence</td>\n",
       "      <td>https://assets.change.org/app-assets/petitions...</td>\n",
       "      <td>NaN</td>\n",
       "      <td>https://api.change.org/p/communaut%C3%A9-de-co...</td>\n",
       "      <td>[{'type': 'custom', 'name': 'Communauté de Com...</td>\n",
       "      <td>open</td>\n",
       "      <td>NaN</td>\n",
       "      <td>NaN</td>\n",
       "      <td>2016-06-28T11:43:26Z</td>\n",
       "      <td>57.0</td>\n",
       "      <td>1</td>\n",
       "    </tr>\n",
       "    <tr>\n",
       "      <th>4</th>\n",
       "      <td>Jean-Claude PRADEL</td>\n",
       "      <td>Dernièrement Monsieur Sarkozy dénonçait le gas...</td>\n",
       "      <td>100</td>\n",
       "      <td>https://api.change.org/u/501773636</td>\n",
       "      <td>8.25264e+06</td>\n",
       "      <td>2017-09-23T23:59:59Z</td>\n",
       "      <td>Monsieur le Président de la République: Nos an...</td>\n",
       "      <td>Nos anciens dirigeants sont tous des assistés!...</td>\n",
       "      <td>https://assets.change.org/app-assets/petitions...</td>\n",
       "      <td>NaN</td>\n",
       "      <td>https://api.change.org/p/monsieur-le-pr%C3%A9s...</td>\n",
       "      <td>[{'type': 'custom', 'name': 'Monsieur le Presi...</td>\n",
       "      <td>open</td>\n",
       "      <td>NaN</td>\n",
       "      <td>NaN</td>\n",
       "      <td>2016-09-23T15:15:31Z</td>\n",
       "      <td>2.0</td>\n",
       "      <td>1</td>\n",
       "    </tr>\n",
       "  </tbody>\n",
       "</table>\n",
       "</div>"
      ],
      "text/plain": [
       "         creator_name                                           overview goal  \\\n",
       "0   Guillaume Spatola  Nous, militants, avons un droit de regard sur ...  100   \n",
       "1         Claudine M.  parce qu'on n'a pas le droit de refuser le man...  100   \n",
       "2   isabelle Bordetti  1)en tant que valbonnaise, je demande la prése...  100   \n",
       "3       Naïs Beaumont  Il y a urgence: d'ici 2018, la déchetterie qui...  100   \n",
       "4  Jean-Claude PRADEL  Dernièrement Monsieur Sarkozy dénonçait le gas...  100   \n",
       "\n",
       "                          creator_url  petition_id                end_at  \\\n",
       "0   https://api.change.org/u/31619762       886980  2013-03-02T23:59:59Z   \n",
       "1   https://api.change.org/u/32174510       960830  2014-01-10T23:59:59Z   \n",
       "2  https://api.change.org/u/543879776  7.09681e+06  2017-05-18T23:59:59Z   \n",
       "3   https://api.change.org/u/66078000  7.41724e+06  2017-06-28T23:59:59Z   \n",
       "4  https://api.change.org/u/501773636  8.25264e+06  2017-09-23T23:59:59Z   \n",
       "\n",
       "                                               title  \\\n",
       "0  Jean-François Copé, François Fillon, Alain Jup...   \n",
       "1  maire d'Ustaritz: Qu'il réintègre la petite Lé...   \n",
       "2             slfv.org: sauvons la forêt valbonnaise   \n",
       "3  Communauté de Communes du Pays de Fayence: Fac...   \n",
       "4  Monsieur le Président de la République: Nos an...   \n",
       "\n",
       "                                         letter_body  \\\n",
       "0  Respecter les statuts de l'UMP et leurs droits...   \n",
       "1  Qu'il réintègre la petite Léa à la cantine de ...   \n",
       "2                       sauvons la forêt valbonnaise   \n",
       "3    Faciliter le tri des déchets en Pays de Fayence   \n",
       "4  Nos anciens dirigeants sont tous des assistés!...   \n",
       "\n",
       "                                           image_url category  \\\n",
       "0  https://assets.change.org/photos/8/ek/hi/yaeKH...      NaN   \n",
       "1  https://assets.change.org/app-assets/petitions...      NaN   \n",
       "2  https://assets.change.org/app-assets/petitions...      NaN   \n",
       "3  https://assets.change.org/app-assets/petitions...      NaN   \n",
       "4  https://assets.change.org/app-assets/petitions...      NaN   \n",
       "\n",
       "                                                 url  \\\n",
       "0  https://api.change.org/p/jean-fran%C3%A7ois-co...   \n",
       "1  https://api.change.org/p/maire-d-ustaritz-qu-i...   \n",
       "2  https://api.change.org/p/slfv-org-sauvons-la-f...   \n",
       "3  https://api.change.org/p/communaut%C3%A9-de-co...   \n",
       "4  https://api.change.org/p/monsieur-le-pr%C3%A9s...   \n",
       "\n",
       "                                             targets   status  \\\n",
       "0  [{'type': 'custom', 'name': 'Jean-François Cop...   closed   \n",
       "1   [{'type': 'custom', 'name': \"maire d'Ustaritz\"}]   closed   \n",
       "2           [{'type': 'custom', 'name': 'slfv.org'}]  preview   \n",
       "3  [{'type': 'custom', 'name': 'Communauté de Com...     open   \n",
       "4  [{'type': 'custom', 'name': 'Monsieur le Presi...     open   \n",
       "\n",
       "  organization_url organization_name            created_at  signature_count  \\\n",
       "0              NaN               NaN  2012-11-23T20:06:47Z             19.0   \n",
       "1              NaN               NaN  2013-01-10T18:30:17Z              1.0   \n",
       "2              NaN               NaN  2016-05-18T16:04:51Z              1.0   \n",
       "3              NaN               NaN  2016-06-28T11:43:26Z             57.0   \n",
       "4              NaN               NaN  2016-09-23T15:15:31Z              2.0   \n",
       "\n",
       "   nb_targets  \n",
       "0           1  \n",
       "1           1  \n",
       "2           1  \n",
       "3           1  \n",
       "4           1  "
      ]
     },
     "execution_count": 50,
     "metadata": {},
     "output_type": "execute_result"
    }
   ],
   "source": [
    "df.overview = df.overview.apply(remove_tags)\n",
    "df.drop(82926, inplace = True)  # A line has not correctly been parsed\n",
    "df.head()"
   ]
  },
  {
   "cell_type": "code",
   "execution_count": 21,
   "metadata": {
    "collapsed": false
   },
   "outputs": [],
   "source": [
    "def get_number_targets(line) :\n",
    "    try :\n",
    "        list_targets = eval(line)\n",
    "        return len(list_targets)\n",
    "    except :\n",
    "        return 0"
   ]
  },
  {
   "cell_type": "code",
   "execution_count": 51,
   "metadata": {
    "collapsed": false
   },
   "outputs": [],
   "source": [
    "df['nb_targets'] = df.targets.apply(get_number_targets)"
   ]
  },
  {
   "cell_type": "code",
   "execution_count": 148,
   "metadata": {
    "collapsed": false
   },
   "outputs": [],
   "source": [
    "def parse_targets (line) :\n",
    "    try :\n",
    "        targets = eval(line)\n",
    "        outlist = [dic[i] if i in dic else None for dic in targets[:3] for i in ['type','name','title']]\n",
    "        return outlist\n",
    "    except Exception as e :\n",
    "        print(e)\n",
    "        return [None for i in range(9)]"
   ]
  },
  {
   "cell_type": "code",
   "execution_count": 152,
   "metadata": {
    "collapsed": false
   },
   "outputs": [
    {
     "data": {
      "text/plain": [
       "['custom', 'Jean-François Copé, François Fillon, Alain Juppé', None]"
      ]
     },
     "execution_count": 152,
     "metadata": {},
     "output_type": "execute_result"
    }
   ],
   "source": [
    "parse_targets(df.loc[0,'targets'])"
   ]
  },
  {
   "cell_type": "code",
   "execution_count": 149,
   "metadata": {
    "collapsed": false
   },
   "outputs": [],
   "source": [
    "from itertools import chain #We create a column for the type,title and name of the 3 first targets\n",
    "targets_columns = [j for i in range(1,4) for j in chain.from_iterable([('target_type_%s'%i,'target_name_%s'%i,'target_title_%s'%i)])]"
   ]
  },
  {
   "cell_type": "code",
   "execution_count": 150,
   "metadata": {
    "collapsed": false
   },
   "outputs": [
    {
     "name": "stdout",
     "output_type": "stream",
     "text": [
      "eval() arg 1 must be a string, bytes or code object\n",
      "eval() arg 1 must be a string, bytes or code object\n",
      "eval() arg 1 must be a string, bytes or code object\n",
      "eval() arg 1 must be a string, bytes or code object\n",
      "eval() arg 1 must be a string, bytes or code object\n",
      "eval() arg 1 must be a string, bytes or code object\n",
      "eval() arg 1 must be a string, bytes or code object\n",
      "eval() arg 1 must be a string, bytes or code object\n",
      "eval() arg 1 must be a string, bytes or code object\n",
      "eval() arg 1 must be a string, bytes or code object\n",
      "eval() arg 1 must be a string, bytes or code object\n",
      "eval() arg 1 must be a string, bytes or code object\n",
      "eval() arg 1 must be a string, bytes or code object\n",
      "eval() arg 1 must be a string, bytes or code object\n"
     ]
    }
   ],
   "source": [
    "df_targets = pandas.DataFrame(list(df.targets.apply(parse_targets).values), columns = targets_columns)"
   ]
  },
  {
   "cell_type": "code",
   "execution_count": 158,
   "metadata": {
    "collapsed": false
   },
   "outputs": [],
   "source": [
    "df = df.join(df_targets)"
   ]
  },
  {
   "cell_type": "code",
   "execution_count": 164,
   "metadata": {
    "collapsed": false
   },
   "outputs": [],
   "source": [
    "df.to_csv('data/fr_petitions_clean.csv', encoding = 'utf8')"
   ]
  },
  {
   "cell_type": "code",
   "execution_count": null,
   "metadata": {
    "collapsed": true
   },
   "outputs": [],
   "source": []
  }
 ],
 "metadata": {
  "kernelspec": {
   "display_name": "Python 3",
   "language": "python",
   "name": "python3"
  },
  "language_info": {
   "codemirror_mode": {
    "name": "ipython",
    "version": 3
   },
   "file_extension": ".py",
   "mimetype": "text/x-python",
   "name": "python",
   "nbconvert_exporter": "python",
   "pygments_lexer": "ipython3",
   "version": "3.5.1"
  }
 },
 "nbformat": 4,
 "nbformat_minor": 0
}
